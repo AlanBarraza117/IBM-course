{
 "cells": [
  {
   "cell_type": "markdown",
   "id": "eaebf19b-c9c5-4559-ac1a-512a591036dc",
   "metadata": {},
   "source": [
    "# Data Science Tools and Ecosystem"
   ]
  },
  {
   "cell_type": "markdown",
   "id": "849596e4-13be-4cfa-9e60-f7849bda5fcc",
   "metadata": {},
   "source": [
    "In this notebook, Data Science for Tools and Ecosystem are summarized."
   ]
  },
  {
   "cell_type": "markdown",
   "id": "531de26f-defa-48c0-b36c-822479a6f7d7",
   "metadata": {},
   "source": [
    "Some of the popular languages that Data Scientists use are:\n",
    "1. Python\n",
    "2. R\n",
    "3. DAX"
   ]
  },
  {
   "cell_type": "markdown",
   "id": "90a5beff-26bd-4606-b44c-3654e4209c02",
   "metadata": {},
   "source": [
    "Some of the commonly used libraries used by Data Scientists include:\n",
    "1. TensorFlow\n",
    "2. Matplotlib\n",
    "3. Pandas"
   ]
  },
  {
   "cell_type": "markdown",
   "id": "fda2da0f-3353-452b-a692-68f395871a9f",
   "metadata": {},
   "source": [
    "| Data Science Tools |\n",
    "|-------------------|\n",
    "| Jupyter Notebook  |\n",
    "| RStudio           |\n",
    "| VS Code + Extensions |"
   ]
  },
  {
   "cell_type": "markdown",
   "id": "51b79192-058d-4703-9804-dfd49e4b5c55",
   "metadata": {},
   "source": [
    "### Below are a few examples of evaluating arithmetic expressions in Python"
   ]
  },
  {
   "cell_type": "code",
   "execution_count": 2,
   "id": "1357889c-81ea-442e-9a4f-2a418b244c1c",
   "metadata": {
    "tags": []
   },
   "outputs": [
    {
     "data": {
      "text/plain": [
       "17"
      ]
     },
     "execution_count": 2,
     "metadata": {},
     "output_type": "execute_result"
    }
   ],
   "source": [
    "(3*4)+5\n",
    "#This is a simple arithmetic expression\n",
    "#to multiply then add integers."
   ]
  },
  {
   "cell_type": "code",
   "execution_count": 3,
   "id": "2001f598-7404-413d-9523-d9818de3b903",
   "metadata": {
    "tags": []
   },
   "outputs": [
    {
     "data": {
      "text/plain": [
       "3.3333333333333335"
      ]
     },
     "execution_count": 3,
     "metadata": {},
     "output_type": "execute_result"
    }
   ],
   "source": [
    "#This will convert 200 minutes to hours by dividing by 60\n",
    "\n",
    "200/(60)"
   ]
  },
  {
   "cell_type": "markdown",
   "id": "8541be3c-dd6a-41b2-8379-0619f933f432",
   "metadata": {},
   "source": [
    "**Objectives:**\n",
    "- Adding commentaries inside code.\n",
    "- Basic arithmetic using python\n",
    "- List for popular languages for Data Science"
   ]
  },
  {
   "cell_type": "markdown",
   "id": "771c6ccd-1a8c-4362-acf0-dff317cc3ce7",
   "metadata": {},
   "source": [
    "## Author\n",
    "Jose Alan Barraza Villaverde"
   ]
  },
  {
   "cell_type": "code",
   "execution_count": null,
   "id": "a14916a8-54a8-4b51-9670-8d4fa1ef2c40",
   "metadata": {},
   "outputs": [],
   "source": []
  }
 ],
 "metadata": {
  "kernelspec": {
   "display_name": "Python",
   "language": "python",
   "name": "conda-env-python-py"
  },
  "language_info": {
   "codemirror_mode": {
    "name": "ipython",
    "version": 3
   },
   "file_extension": ".py",
   "mimetype": "text/x-python",
   "name": "python",
   "nbconvert_exporter": "python",
   "pygments_lexer": "ipython3",
   "version": "3.7.12"
  }
 },
 "nbformat": 4,
 "nbformat_minor": 5
}
